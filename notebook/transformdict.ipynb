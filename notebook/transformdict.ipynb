{
 "cells": [
  {
   "cell_type": "code",
   "execution_count": 1,
   "metadata": {},
   "outputs": [],
   "source": [
    "import pandas as pd\n",
    "import json\n",
    "import xmltodict\n",
    "pd.options.display.max_columns = 1000\n",
    "import glob"
   ]
  },
  {
   "cell_type": "code",
   "execution_count": null,
   "metadata": {},
   "outputs": [],
   "source": [
    "def recursivedict(level,parent,el,elstring):\n",
    "    if(type(parent[el]) is dict):\n",
    "        for el2 in parent[el]:\n",
    "            if(elstring == ''):\n",
    "                elstring2 = el2\n",
    "            else:\n",
    "                elstring2 = elstring+'.'+el2\n",
    "            recursivedict(level+1,parent[el],el2,elstring2)\n",
    "    if(type(parent[el]) is list):\n",
    "        if elstring not in lists:\n",
    "            lists.append(elstring)\n",
    "    else:\n",
    "        if elstring not in columns:\n",
    "            columns.append(elstring)"
   ]
  }
 ],
 "metadata": {
  "kernelspec": {
   "display_name": "Python 3",
   "language": "python",
   "name": "python3"
  },
  "language_info": {
   "codemirror_mode": {
    "name": "ipython",
    "version": 3
   },
   "file_extension": ".py",
   "mimetype": "text/x-python",
   "name": "python",
   "nbconvert_exporter": "python",
   "pygments_lexer": "ipython3",
   "version": "3.8.6"
  }
 },
 "nbformat": 4,
 "nbformat_minor": 4
}
